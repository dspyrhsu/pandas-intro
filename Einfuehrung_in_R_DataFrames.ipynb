{
 "cells": [
  {
   "cell_type": "markdown",
   "metadata": {},
   "source": [
    "# Einführung in R Data Frames\n",
    "\n",
    "### Vorwort\n",
    "Dies ist eine Übertragung eines Teils des Tutorials von [Greg Reda](http://www.gregreda.com/2013/10/26/intro-to-pandas-data-structures/) für Pandas, der Python-Bibliothek für Data Frames, auf R.\n",
    "\n",
    "Informationen über die meisten der hier verwendeten Methoden findet man in den [Manuals auf CRAN](https://cran.r-project.org/manuals.html)."
   ]
  },
  {
   "cell_type": "markdown",
   "metadata": {},
   "source": [
    "## Data Frame\n",
    "\n",
    "In R ist ein DataFrame ein grundlegendes Objekt, welches ohne zusätzliche Pakete zur Verfügung steht. Dem Im- und Export von Daten widmet sich ein eigenes [Handbuch](https://cran.r-project.org/doc/manuals/r-release/R-data.html)."
   ]
  },
  {
   "cell_type": "markdown",
   "metadata": {},
   "source": [
    "### Anlegen eines Data Frames\n",
    "\n",
    "Man kann ein Data Frame beispielsweise wie folgt von Hand anlegen:"
   ]
  },
  {
   "cell_type": "code",
   "execution_count": null,
   "metadata": {},
   "outputs": [],
   "source": [
    "football <- data.frame(year = c(2010, 2011, 2012, 2011, 2012, 2010, 2011, 2012),\n",
    "        team = c('Bears', 'Bears', 'Bears', 'Packers', 'Packers', 'Lions', 'Lions', 'Lions'),\n",
    "        wins = c(11, 8, 10, 15, 11, 6, 10, 4),\n",
    "        losses = c(5, 8, 6, 1, 5, 10, 6, 12))\n",
    "football"
   ]
  },
  {
   "cell_type": "markdown",
   "metadata": {},
   "source": [
    "Datensätze werden allerdings nur selten wie eben geschehen per Hand angelegt, sondern eingelesen, sei es aus Dateien oder über die Verbindung zu einer Datenbank. Dies wird im Folgenden dargestellt."
   ]
  },
  {
   "cell_type": "markdown",
   "metadata": {},
   "source": [
    "**CSV**\n",
    "\n",
    "Eine CSV-Datei kann  man einfach mit Hilfe der Funktion *read.csv()* einlesen. Dabei wird das *Komma* als Feldtrenner vorausgesetzt; dagegen erwartet *read.csv2()* ein *Semikolon* und außerdem wird hier ein *Komma als Dezimaltrenner* interpretiert! Will man flexibel den Feldtrenner mit Hilfe des `sep`-Parameters selbst setzen, so verwendet man die allgemeine Funktion *read.table()*, die auch noch andere Einstellungen wie etwa das *Encoding* erlaubt (siehe [Spreadsheet-like Data](https://cran.r-project.org/doc/manuals/r-release/R-data.html#Spreadsheet_002dlike-data))"
   ]
  },
  {
   "cell_type": "code",
   "execution_count": null,
   "metadata": {},
   "outputs": [],
   "source": [
    "from_csv <- read.csv('data/mariano-rivera.csv', stringsAsFactors = FALSE)\n",
    "head(from_csv)"
   ]
  },
  {
   "cell_type": "markdown",
   "metadata": {},
   "source": [
    "Zuvor wurde die erste Zeile als Kopfzeile mit den Spaltennamen interpretiert. Haben wir eine reine Datendatei, dann müssen wir *read.table()* verwenden mit der Angabe `header=FALSE`. Die Spaltennamen können dann auch mit Hilfe des Parameters `col.names` spezifiziert werden: "
   ]
  },
  {
   "cell_type": "code",
   "execution_count": null,
   "metadata": {},
   "outputs": [],
   "source": [
    "cols <- c('num', 'game', 'date', 'team', 'home_away', 'opponent',\n",
    "        'result', 'quarter', 'distance', 'receiver', 'score_before',\n",
    "        'score_after')\n",
    "no_headers <- read.table('data/peyton-passing-TDs-2012.csv', sep=',', header=FALSE,\n",
    "                         stringsAsFactors = FALSE, col.names=cols)\n",
    "head(no_headers)"
   ]
  },
  {
   "cell_type": "markdown",
   "metadata": {},
   "source": [
    "Ein Abschnitt des Handbuchs befasst sich speziell mit dem [Export in Textdateien](https://cran.r-project.org/doc/manuals/r-release/R-data.html#Export-to-text-files)."
   ]
  },
  {
   "cell_type": "markdown",
   "metadata": {},
   "source": [
    "**Excel**\n",
    "\n",
    "Für den Umgang mit Excel-Dateien benötigt man eine eigene Bibliothek. Es gibt dafür verschiedene Möglichkeiten. Hier wird [openxlsx](https://www.rdocumentation.org/packages/openxlsxversions/4.0.0) verwendet, da das Paket ohne Java-Abhängigkeiten auskommt. Allerdings muss es zunächst installiert werden (siehe die Beschreibung im oben angegebenen Link).\n",
    "\n",
    "In diesem Zusammenhang ist auch von Interesse, was die [R-Doku](https://cran.r-project.org/doc/manuals/r-release/R-data.html#Reading-Excel-spreadsheets) dazu meint ..."
   ]
  },
  {
   "cell_type": "code",
   "execution_count": null,
   "metadata": {
    "collapsed": true
   },
   "outputs": [],
   "source": [
    "# Paket laden\n",
    "library(openxlsx)"
   ]
  },
  {
   "cell_type": "code",
   "execution_count": null,
   "metadata": {
    "collapsed": true
   },
   "outputs": [],
   "source": [
    "# mal schauen, was es kann\n",
    "help(openxlsx)"
   ]
  },
  {
   "cell_type": "markdown",
   "metadata": {},
   "source": [
    "Wir schreiben das zuvor händisch angelegte Data Frame in eine Excel-Datei."
   ]
  },
  {
   "cell_type": "code",
   "execution_count": null,
   "metadata": {},
   "outputs": [],
   "source": [
    "# tail gibt es in R auch\n",
    "tail(football)"
   ]
  },
  {
   "cell_type": "code",
   "execution_count": null,
   "metadata": {},
   "outputs": [],
   "source": [
    "# in eine Excel-Datei schreiben\n",
    "write.xlsx(football,'data/football-R.xlsx')"
   ]
  },
  {
   "cell_type": "code",
   "execution_count": null,
   "metadata": {},
   "outputs": [],
   "source": [
    "# prüfen, ob die Datei angelegt wurde\n",
    "system2('ls', args='-l data/*.xlsx', stdout=TRUE)"
   ]
  },
  {
   "cell_type": "code",
   "execution_count": null,
   "metadata": {
    "collapsed": true
   },
   "outputs": [],
   "source": [
    "# Data Frame löschen\n",
    "rm(football)"
   ]
  },
  {
   "cell_type": "code",
   "execution_count": null,
   "metadata": {},
   "outputs": [],
   "source": [
    "# Excel einlesen\n",
    "football <- read.xlsx('data/football-R.xlsx')\n",
    "football"
   ]
  },
  {
   "cell_type": "markdown",
   "metadata": {},
   "source": [
    "**Datenbanken**\n",
    "\n",
    "Zur Verbindung mit Datenbanken ist es sinnvoll, das Paket [DBI](https://www.rdocumentation.org/packages/DBI) zu verwenden. Ferner benötigt man noch spezielle Pakete für die einzelnen DBMS, mit denen man arbeiten möchte; in unserem Fall [RSQLite](https://www.rdocumentation.org/packages/RSQLite). Zu dieser Kombination existiert auch eine [Vignette](https://cran.r-project.org/web/packages/RSQLite/vignettes/RSQLite.html)."
   ]
  },
  {
   "cell_type": "code",
   "execution_count": null,
   "metadata": {},
   "outputs": [],
   "source": [
    "library(\"DBI\")\n",
    "# library(\"RSQLite\")\n",
    "\n",
    "conn <- dbConnect(RSQLite::SQLite(), 'data/towed.db')\n",
    "query <- \"SELECT * FROM towed WHERE make = 'FORD';\"\n",
    "\n",
    "results <- dbGetQuery(conn, query)\n",
    "head(results)"
   ]
  },
  {
   "cell_type": "markdown",
   "metadata": {},
   "source": [
    "**Zwischenablage (Clipboard)**\n",
    "\n",
    "Auch das Einlesen aus der Zwischenablage ist einfach möglich. Nach KLick auf den folgenden Link markiere man die Daten wie im Bild zu sehen und führe dann die nachfolgende Zelle aus.\n",
    "\n",
    "[Hank Aaron](http://www.baseball-reference.com/players/a/aaronha01.shtml)\n",
    "\n",
    "![hank-aaron-stats-screenshot](http://up.picr.de/29101294uq.jpg)"
   ]
  },
  {
   "cell_type": "code",
   "execution_count": null,
   "metadata": {},
   "outputs": [],
   "source": [
    "hank <- read.delim(\"clipboard\", stringsAsFactors = FALSE)\n",
    "head(hank)"
   ]
  },
  {
   "cell_type": "markdown",
   "metadata": {},
   "source": [
    "**URL**\n",
    "\n",
    "Mittels `read.table()` kann man auch direkt von einer URL lesen. Wir benutzen wieder Greg Redas [best sandwiches Daten](https://raw.github.com/gjreda/best-sandwiches/master/data/best-sandwiches-geocode.tsv)."
   ]
  },
  {
   "cell_type": "code",
   "execution_count": null,
   "metadata": {},
   "outputs": [],
   "source": [
    "url = 'https://raw.github.com/gjreda/best-sandwiches/master/data/best-sandwiches-geocode.tsv'\n",
    "\n",
    "# fetch the text from the URL and read it into a DataFrame\n",
    "from_url = read.table(url, header=TRUE, sep='\\t', stringsAsFactors = FALSE)\n",
    "head(from_url,3)"
   ]
  },
  {
   "cell_type": "markdown",
   "metadata": {},
   "source": [
    "## Mit Data Frames arbeiten"
   ]
  },
  {
   "cell_type": "markdown",
   "metadata": {},
   "source": [
    "Wir benutzen auch hier den [MovieLens](http://www.grouplens.org/node/73) Datensatz wie bei der Pandas-Einführung."
   ]
  },
  {
   "cell_type": "markdown",
   "metadata": {},
   "source": [
    "Im Folgenden werden zunächst SQL-Statements gezeigt, normalerweise für MySQL, aber manchmal auch für SQLite. Anschließend folgen die entsprechenden Python-Äquivalente mit Pandas.\n",
    "\n",
    "```SQL\n",
    "CREATE TABLE users (\n",
    "  user_id int,\n",
    "  age smallint,\n",
    "  sex varchar(200),\n",
    "  occupation varchar(200),\n",
    "  zip_code varchar(200)\n",
    ");\n",
    "\n",
    "LOAD DATA LOCAL INFILE 'ml-100k/u.user'\n",
    "INTO TABLE users\n",
    "CHARACTER SET 'latin1'\n",
    "FIELDS TERMINATED BY '|'\n",
    "LINES TERMINATED BY '\\n';\n",
    "```\n",
    "In R wird also der Zeichensatz genauso bezeichnet wie in MySQL (`'latin1'`), während man in Python `'latin-1'` verwenden muss!"
   ]
  },
  {
   "cell_type": "code",
   "execution_count": null,
   "metadata": {},
   "outputs": [],
   "source": [
    "# Spaltennamen separat festlegen\n",
    "u_cols <- c('user_id', 'age', 'sex', 'occupation', 'zip_code')\n",
    "users <- read.table('data/ml-100k/u.user', sep='|', col.names=u_cols, header=FALSE,\n",
    "                    fileEncoding='latin1')\n",
    "head(users)"
   ]
  },
  {
   "cell_type": "markdown",
   "metadata": {},
   "source": [
    "```SQL\n",
    "CREATE TABLE ratings (\n",
    "  user_id int,\n",
    "  movie_id int,\n",
    "  rating tinyint,\n",
    "  unix_timestamp bigint\n",
    ");\n",
    "\n",
    "LOAD DATA LOCAL INFILE 'ml-100k/u.data'\n",
    "INTO TABLE ratings\n",
    "CHARACTER SET 'latin1'\n",
    "FIELDS TERMINATED BY '\\t'\n",
    "LINES TERMINATED BY '\\n';\n",
    "```\n",
    "> Hier ist der ***Spaltentrenner*** also ein Tabulator, kein Pipe-Zeichen!"
   ]
  },
  {
   "cell_type": "code",
   "execution_count": null,
   "metadata": {},
   "outputs": [],
   "source": [
    "r_cols <- c('user_id', 'movie_id', 'rating', 'unix_timestamp')\n",
    "ratings = read.csv('data/ml-100k/u.data', sep='\\t', col.names=r_cols, header=FALSE,\n",
    "                      fileEncoding='latin1')\n",
    "head(ratings,3)"
   ]
  },
  {
   "cell_type": "markdown",
   "metadata": {},
   "source": [
    "```SQL\n",
    "CREATE TABLE movies (\n",
    "  movie_id int,\n",
    "  title varchar(200),\n",
    "  release_date varchar(200),\n",
    "  video_release_date varchar(200),\n",
    "  imdb_url varchar(200)\n",
    ");\n",
    "\n",
    "-- unused columns at the end automatically ignored\n",
    "LOAD DATA LOCAL INFILE 'ml-100k/u.item'\n",
    "INTO TABLE movies\n",
    "CHARACTER SET 'latin1'\n",
    "FIELDS TERMINATED BY '|'\n",
    "LINES TERMINATED BY '\\n';\n",
    "```"
   ]
  },
  {
   "cell_type": "markdown",
   "metadata": {},
   "source": [
    "Das Einlesen eines Datensatzes mit mehr Spalten als man braucht ist etwas aufwändiger. Im folgenden Fall benötigen wir nur die ersten 5 Spalten."
   ]
  },
  {
   "cell_type": "code",
   "execution_count": null,
   "metadata": {},
   "outputs": [],
   "source": [
    "# Spaltennamen\n",
    "m_cols <- c('movie_id', 'title', 'release_date', 'video_release_date', 'imdb_url')\n",
    "# erst einmal alles einlesen\n",
    "movies <- read.csv('data/ml-100k/u.item', sep='|', header=FALSE,\n",
    "                     fileEncoding='latin1')\n",
    "# nur die ersten fünf Spalten behalten\n",
    "movies <- movies[1:5]\n",
    "# Namen festlegen\n",
    "colnames(movies) <- m_cols\n",
    "head(movies,3)"
   ]
  },
  {
   "cell_type": "markdown",
   "metadata": {},
   "source": [
    "### Beschreibung\n",
    "\n",
    "Meta-Information zum Datensatz erhält man mittels `str` bzw. `summary.default()`.\n",
    "\n",
    "> #### SQL-Äquivalent:\n",
    "für MySQL:\n",
    "```SQL\n",
    "DESCRIBE towed;\n",
    "```\n",
    "für SQLite:\n",
    "```SQL\n",
    "PRAGMA table_info([towed]);\n",
    "```"
   ]
  },
  {
   "cell_type": "code",
   "execution_count": null,
   "metadata": {},
   "outputs": [],
   "source": [
    "str(movies)"
   ]
  },
  {
   "cell_type": "code",
   "execution_count": null,
   "metadata": {},
   "outputs": [],
   "source": [
    "summary.default(movies)"
   ]
  },
  {
   "cell_type": "markdown",
   "metadata": {},
   "source": [
    "Wir haben bereits mehrfach die `head`-Methode verwendet. In R werden dabei per default die ersten 6 Zeilen ausgegeben, mit `tail` die letzten 6."
   ]
  },
  {
   "cell_type": "markdown",
   "metadata": {},
   "source": [
    "> #### SQL-Äquivalent\n",
    " zu `head()`\n",
    "```SQL\n",
    "SELECT * \n",
    "FROM movies \n",
    "LIMIT 6;\n",
    "```"
   ]
  },
  {
   "cell_type": "code",
   "execution_count": null,
   "metadata": {},
   "outputs": [],
   "source": [
    "head(movies)"
   ]
  },
  {
   "cell_type": "markdown",
   "metadata": {},
   "source": [
    "> #### SQL-Äquivalent\n",
    "zu `tail(,3)`<br/>\n",
    "Dies funktioniert nur in SQLite wegen der Pseudo-Spalte `ROWID`!\n",
    "```SQL\n",
    "SELECT * \n",
    "FROM movies \n",
    "ORDER BY ROWID DESC\n",
    "LIMIT 3;\n",
    "```"
   ]
  },
  {
   "cell_type": "code",
   "execution_count": null,
   "metadata": {},
   "outputs": [],
   "source": [
    "tail(movies,3)"
   ]
  },
  {
   "cell_type": "markdown",
   "metadata": {},
   "source": [
    "Man kann auch bestimmte Zeilen per [Referenzierung](https://de.wikibooks.org/wiki/GNU_R:_Umgang_mit_Datens%C3%A4tzen_(Erstellen,_Ausw%C3%A4hlen_und_Filtern)) auswählen!"
   ]
  },
  {
   "cell_type": "markdown",
   "metadata": {},
   "source": [
    "> #### SQL-Äquivalent\n",
    "zu `[21:22,]` <br/>\n",
    "Dies funktioniert nur in SQLite wegen der Pseudo-Spalte `ROWID`. Wi in SQLite beginnt auch in R der Index bei 1!\n",
    "```SQL\n",
    "SELECT * \n",
    "FROM movies \n",
    "WHERE ROWID IN (21,22);\n",
    "```"
   ]
  },
  {
   "cell_type": "code",
   "execution_count": null,
   "metadata": {},
   "outputs": [],
   "source": [
    "movies[21:22,]"
   ]
  },
  {
   "cell_type": "markdown",
   "metadata": {},
   "source": [
    "### Selektion\n",
    "\n",
    "Auswählen kann man einfach per Angabe des Spaltennamens."
   ]
  },
  {
   "cell_type": "markdown",
   "metadata": {},
   "source": [
    "> #### SQL-Äquivalent\n",
    "```SQL\n",
    "SELECT occupation\n",
    "FROM users\n",
    "LIMIT 5;\n",
    "```"
   ]
  },
  {
   "cell_type": "code",
   "execution_count": null,
   "metadata": {},
   "outputs": [],
   "source": [
    "head(users['occupation'])"
   ]
  },
  {
   "cell_type": "markdown",
   "metadata": {},
   "source": [
    "Mehrere Spalten müssen erst wieder kombiniert werden."
   ]
  },
  {
   "cell_type": "markdown",
   "metadata": {},
   "source": [
    "> #### SQL-Äquivalent\n",
    "\n",
    "```SQL\n",
    "SELECT age, zip_code\n",
    "FROM users\n",
    "LIMIT 5;\n",
    "\n",
    "SELECT occupation, sex\n",
    "FROM users\n",
    "LIMIT 5;\n",
    "```"
   ]
  },
  {
   "cell_type": "code",
   "execution_count": null,
   "metadata": {},
   "outputs": [],
   "source": [
    "head(users[c('age', 'zip_code')])\n",
    "# can also store in a variable to use later\n",
    "columns_you_want <- c('occupation', 'sex')\n",
    "print(head(users[columns_you_want]))"
   ]
  },
  {
   "cell_type": "markdown",
   "metadata": {},
   "source": [
    "#### Zeilenauswahl\n",
    "Dies kann mit einem Index oder einem logischen Ausdruck geschehen. Die fragliche Spalte kann man wie gewohnt angeben, aber auch mit dem Dollarzeichen $\\$$."
   ]
  },
  {
   "cell_type": "markdown",
   "metadata": {},
   "source": [
    "> #### SQL-Äquivalent (WHERE Klausel)\n",
    "\n",
    "```SQL\n",
    "SELECT *\n",
    "FROM users\n",
    "WHERE age > 25\n",
    "LIMIT 3;\n",
    "\n",
    "SELECT *\n",
    "FROM users\n",
    "WHERE age = 40 AND sex = 'M'\n",
    "LIMIT 3;\n",
    "\n",
    "SELECT *\n",
    "FROM users\n",
    "WHERE sex = 'F' OR age < 30\n",
    "LIMIT 3;\n",
    "```"
   ]
  },
  {
   "cell_type": "code",
   "execution_count": null,
   "metadata": {},
   "outputs": [],
   "source": [
    "# users older than 25\n",
    "print(head(subset(users, users$age > 25),3))\n",
    "cat(\"\\n\")\n",
    "# users aged 40 AND male\n",
    "print(head(subset(users, users['age'] == 40 & users['sex'] == 'M'),3))\n",
    "cat(\"\\n\")\n",
    "# users younger than 30 OR female\n",
    "print(head(subset(users, users$sex == 'F' | users$age < 30),3))"
   ]
  },
  {
   "cell_type": "markdown",
   "metadata": {},
   "source": [
    "Der Index für unsere Zeilen im `users` Data Frame ist lediglich quasi eine Kopie der Spalte `user_id`. In der R-Terminologie ist dies der *Zeilenname*. Um also Zeilen über den Index zu referenzieren, wie wir es mit Primärschlüsseln aus relationalen Datenbanken gewohnt sind, müssen wir dies spezifizieren."
   ]
  },
  {
   "cell_type": "code",
   "execution_count": null,
   "metadata": {},
   "outputs": [],
   "source": [
    "rownames(users) <- users$user_id\n",
    "head(users,3)"
   ]
  },
  {
   "cell_type": "markdown",
   "metadata": {},
   "source": [
    "### Maskierung\n",
    "Man kann *Filtermasken* definieren und damit einfach durch Bool'sche Indizierung arbeiten. In SQL geht das prinzipiell auch, ist aber recht unpraktisch ... Wir zeigen das an den weiblichen Benutzern unter 40, zunächst mit dem\n",
    "#### SQL Äquivalent\n",
    "```SQL\n",
    "CREATE VIEW females_under_40 AS\n",
    "SELECT *,\n",
    "CASE \n",
    "WHEN age < 40 AND sex = 'F' THEN 1\n",
    "ELSE 0\n",
    "END AS mask \n",
    "FROM users;\n",
    "```\n",
    "und dann auch in R:"
   ]
  },
  {
   "cell_type": "code",
   "execution_count": null,
   "metadata": {
    "collapsed": true
   },
   "outputs": [],
   "source": [
    "fu40 <- (users$age < 40 & users['sex'] == 'F')"
   ]
  },
  {
   "cell_type": "markdown",
   "metadata": {},
   "source": [
    "Nun wüssten wir gerne, wieviele Frauen unter 40 wir denn haben\n",
    "#### SQL-Äquivalent\n",
    "```SQL\n",
    "SELECT mask, COUNT(*) \n",
    "FROM females_under_40\n",
    "GROUP BY mask;\n",
    "```"
   ]
  },
  {
   "cell_type": "code",
   "execution_count": null,
   "metadata": {},
   "outputs": [],
   "source": [
    "summary.default(fu40)"
   ]
  },
  {
   "cell_type": "markdown",
   "metadata": {},
   "source": [
    "Und schleßlich noch die ersten 6 der Damen unter 40 (das Geschlecht brauchen wir nicht ...)\n",
    "### SQL-Äquivalent\n",
    "```SQL\n",
    "SELECT user_id, age, occupation, zip_code\n",
    "FROM females_under_40\n",
    "WHERE mask = 1\n",
    "LIMIT 6;\n",
    "```"
   ]
  },
  {
   "cell_type": "code",
   "execution_count": null,
   "metadata": {},
   "outputs": [],
   "source": [
    "head(subset(users[c('age','occupation','zip_code')],fu40)) # user_id ist ja unser Index und wird automatisch angezeigt"
   ]
  },
  {
   "cell_type": "markdown",
   "metadata": {},
   "source": [
    "### Index basierte Auswahl (Referenzierung)\n",
    "Wir können einzelne Zeilen auswählen (siehe auch <a href=\"https://de.wikibooks.org/wiki/GNU_R:_Umgang_mit_Datens%C3%A4tzen_(Erstellen,_Ausw%C3%A4hlen_und_Filtern)#Referenzierung_.28Auswahl_von_Variablen_oder_F.C3.A4llen.29\">hier</a>)"
   ]
  },
  {
   "cell_type": "markdown",
   "metadata": {},
   "source": [
    "> #### SQL-Äquivalent\n",
    "Dies funktioniert nur in SQLite wegen der Pseudo-Spalte `ROWID`!\n",
    "\n",
    "```SQL\n",
    "SELECT *\n",
    "FROM users\n",
    "WHERE ROWID = 100;\n",
    "\n",
    "SELECT *\n",
    "FROM users\n",
    "WHERE ROWID IN (2, 51, 301);\n",
    "```"
   ]
  },
  {
   "cell_type": "code",
   "execution_count": null,
   "metadata": {},
   "outputs": [],
   "source": [
    "print(users[100,])\n",
    "cat('\\n')\n",
    "print(users[c(2, 51, 301),])"
   ]
  },
  {
   "cell_type": "markdown",
   "metadata": {},
   "source": [
    "### Joining\n",
    "\n",
    "Die Verbindung von Datensätzen ist bei Analysen an der Tagesordnung. In R steht dafür die Funktion `merge` zur Verfügung. Eine Übersicht über die Möglichekietn erhält man bei [Stackoverflow](http://stackoverflow.com/questions/1299871/how-to-join-merge-data-frames-inner-outer-left-right) oder in Verbindung mit dem [R Cookbook](http://www.cookbook-r.com/Manipulating_data/Merging_data_frames/) oder im [Handbuch](https://stat.ethz.ch/R-manual/R-devel/library/base/html/merge.html)."
   ]
  },
  {
   "cell_type": "code",
   "execution_count": null,
   "metadata": {},
   "outputs": [],
   "source": [
    "left_frame <- data.frame(key = c(1:5), \n",
    "                           left_value = c('a', 'b', 'c', 'd', 'e'))\n",
    "right_frame = data.frame(key = c(2:6), \n",
    "                           right_value = c('f', 'g', 'h', 'i', 'j'))\n",
    "print(left_frame)\n",
    "cat('\\n')\n",
    "print(right_frame)"
   ]
  },
  {
   "cell_type": "markdown",
   "metadata": {},
   "source": [
    "**inner join (default)**"
   ]
  },
  {
   "cell_type": "markdown",
   "metadata": {},
   "source": [
    "#### SQL Äquivalent:\n",
    "\n",
    "```SQL\n",
    "    SELECT left_frame.key, left_frame.left_value, right_frame.right_value\n",
    "    FROM left_frame\n",
    "    INNER JOIN right_frame\n",
    "        ON left_frame.key = right_frame.key;\n",
    "```"
   ]
  },
  {
   "cell_type": "code",
   "execution_count": null,
   "metadata": {},
   "outputs": [],
   "source": [
    "merge(x=left_frame, y=right_frame)"
   ]
  },
  {
   "cell_type": "markdown",
   "metadata": {},
   "source": [
    "Hätte unsere Join-Spalte nicht in beiden Fällen *key* gehießen, so hätten wir die zu verbindenden Spalten durch *by.x* und *by.y* spezifizieren können:\n",
    "```r\n",
    "    merge(x=left_frame, y=right_frame, by.x='left_key', by.y='right_key')\n",
    "```"
   ]
  },
  {
   "cell_type": "markdown",
   "metadata": {},
   "source": [
    "**left outer join**\n",
    "\n",
    "#### SQL Äquivalent:\n",
    "```SQL\n",
    "    SELECT left_frame.key, left_frame.left_value, right_frame.right_value\n",
    "    FROM left_frame\n",
    "    LEFT JOIN right_frame\n",
    "        ON left_frame.key = right_frame.key;\n",
    "```"
   ]
  },
  {
   "cell_type": "code",
   "execution_count": null,
   "metadata": {},
   "outputs": [],
   "source": [
    "merge(left_frame, right_frame, by='key', all.x=TRUE)"
   ]
  },
  {
   "cell_type": "markdown",
   "metadata": {},
   "source": [
    "Wie man sieht, kann man auch die Namen der Parameter in der Angabe weglassen."
   ]
  },
  {
   "cell_type": "markdown",
   "metadata": {},
   "source": [
    "**right outer join**\n",
    "\n",
    "#### SQL Äquivalent:\n",
    "```SQL\n",
    "    SELECT right_frame.key, left_frame.left_value, right_frame.right_value\n",
    "    FROM left_frame\n",
    "    RIGHT JOIN right_frame\n",
    "        ON left_frame.key = right_frame.key;\n",
    "```"
   ]
  },
  {
   "cell_type": "code",
   "execution_count": null,
   "metadata": {},
   "outputs": [],
   "source": [
    "merge(left_frame, right_frame, by='key', all.y=TRUE)"
   ]
  },
  {
   "cell_type": "markdown",
   "metadata": {},
   "source": [
    "**full outer join**\n",
    "\n",
    "#### SQL Äquivalent \n",
    "(soweit möglich (z.B. nicht in MySQL)):\n",
    "```SQL\n",
    "    SELECT IFNULL(left_frame.key, right_frame.key) key\n",
    "            , left_frame.left_value, right_frame.right_value\n",
    "    FROM left_frame\n",
    "    FULL OUTER JOIN right_frame\n",
    "        ON left_frame.key = right_frame.key;\n",
    "```"
   ]
  },
  {
   "cell_type": "code",
   "execution_count": null,
   "metadata": {},
   "outputs": [],
   "source": [
    "merge(left_frame, right_frame, by='key', all=TRUE)"
   ]
  },
  {
   "cell_type": "markdown",
   "metadata": {},
   "source": [
    "Bisher haben wir zur Datenmanipulation nur eingebaute Funktionen von R benutzt (nur für den Umgang mit Dateien und Datenbenaken hatten wir spezielle Pakete verwendet). Allerdings gibt es auch ein spezielles Paket, welches den Umgang mit Data Frames nochmal deutlich erleichtert, nämlich [dplyr](https://www.rdocumentation.org/packages/dplyr). Es wäre eine gute **Übung**, die bisherigen Datenmanipulationen mit Hilfe dieses Pakets zu wiederholen. Für die folgende Gruppierung werden wir es in jedem Fall verwenden."
   ]
  },
  {
   "cell_type": "markdown",
   "metadata": {},
   "source": [
    "### Gruppierung\n",
    "Die bekannten Aggregatfunktionen sind im `dplyr`-Paket einfach realisiert und auch wieder ähnlich zu Pandas. Wie dort auch gibt es Aggregatfunktionen wie `median`, die in SQL nicht zur Verfügung stehen."
   ]
  },
  {
   "cell_type": "code",
   "execution_count": null,
   "metadata": {},
   "outputs": [],
   "source": [
    "library(dplyr)"
   ]
  },
  {
   "cell_type": "markdown",
   "metadata": {},
   "source": [
    "Wir benutzen wieder die Daten der Einkommen der Bediensteten der Stadt Chicago. Allerdings ist diesmal das Dollarzeichen mit dem Editor entfernt worden ..."
   ]
  },
  {
   "cell_type": "code",
   "execution_count": null,
   "metadata": {},
   "outputs": [],
   "source": [
    "system2('head',args='-n 3 data/city-of-chicago-salaries_prep.csv',stdout=TRUE)"
   ]
  },
  {
   "cell_type": "code",
   "execution_count": null,
   "metadata": {},
   "outputs": [],
   "source": [
    "headers <- c('name', 'title', 'department', 'salary')\n",
    "chicago <- read.csv('data/city-of-chicago-salaries_prep.csv', \n",
    "                      header=TRUE, stringsAsFactors = FALSE,\n",
    "                      col.names=headers)\n",
    "head(chicago)"
   ]
  },
  {
   "cell_type": "markdown",
   "metadata": {},
   "source": [
    "Mittels `group_by` kann man die aggregierten Auswertungen vorbereiten, wobei man zunächst in der Ausgabe keinen Unterschied sieht zum ursprünglichen Data Frame. Der Unterschied wird aber klar, wenn man die Strukturen vergleicht.\n",
    ">**Anmerkung** Wer mehr über Syntax wie `%>%` erfahren möchte, dem sei [dieser Blogeintrag](https://martinsbioblogg.wordpress.com/2014/03/27/more-fun-with-and/) ans Herz gelegt ..."
   ]
  },
  {
   "cell_type": "code",
   "execution_count": null,
   "metadata": {},
   "outputs": [],
   "source": [
    "by_dept <- chicago %>% group_by(department)\n",
    "head(by_dept)"
   ]
  },
  {
   "cell_type": "code",
   "execution_count": null,
   "metadata": {},
   "outputs": [],
   "source": [
    "str(chicago)"
   ]
  },
  {
   "cell_type": "code",
   "execution_count": null,
   "metadata": {},
   "outputs": [],
   "source": [
    "str(by_dept)"
   ]
  },
  {
   "cell_type": "markdown",
   "metadata": {},
   "source": [
    "### Aggregate\n",
    "Die Bildung von Aggregaten geschieht mittels `summarise`. Die folgenden Beispiele sollten (zumindest in Kombination mit den SQL-Äquivalenten) weitgehend selbsterklärend sein (wenn man sich an die Notation gewöhnt hat ...)."
   ]
  },
  {
   "cell_type": "markdown",
   "metadata": {},
   "source": [
    "> #### SQL-Äquivalent\n",
    "\n",
    "```SQL\n",
    "SELECT department, COUNT(name) AS name, COUNT(title) AS title, COUNT(salary) AS salary\n",
    "FROM chicago\n",
    "GROUP BY department\n",
    "LIMIT 5;\n",
    "\n",
    "SELECT department, COUNT(*)\n",
    "FROM chicago\n",
    "GROUP BY department\n",
    "ORDER BY department DESC\n",
    "LIMIT 5;\n",
    "```"
   ]
  },
  {
   "cell_type": "code",
   "execution_count": null,
   "metadata": {},
   "outputs": [],
   "source": [
    "head(by_dept %>% summarise(name = length(name), title=length(title), salary=length(salary)))\n",
    "tail(by_dept %>% summarise(n = length(name)))"
   ]
  },
  {
   "cell_type": "markdown",
   "metadata": {},
   "source": [
    "> #### SQL-Äquivalent\n",
    "\n",
    "```SQL\n",
    "-- sum, mean, (no) median ;-(\n",
    "SELECT department, SUM(salary) AS total_salary, AVG(salary) AS avg, 'N/A' AS med\n",
    "FROM chicago\n",
    "GROUP BY department\n",
    "LIMIT 6;\n",
    "```"
   ]
  },
  {
   "cell_type": "code",
   "execution_count": null,
   "metadata": {},
   "outputs": [],
   "source": [
    "head(by_dept %>% summarise(total_salary=sum(salary), avg=mean(salary), med=median(salary)))"
   ]
  },
  {
   "cell_type": "markdown",
   "metadata": {},
   "source": [
    "Nun suchen wir die 5 Abteilungen mit dem meisten unterschiedlichen Jobtiteln.\n",
    "\n",
    "```SQL\n",
    "    SELECT department, COUNT(DISTINCT title)\n",
    "    FROM chicago\n",
    "    GROUP BY department\n",
    "    ORDER BY 2 DESC\n",
    "    LIMIT 5;\n",
    "```"
   ]
  },
  {
   "cell_type": "code",
   "execution_count": null,
   "metadata": {},
   "outputs": [],
   "source": [
    "head(by_dept %>% summarise(n = n_distinct(title)) %>% arrange(desc(n)),5) "
   ]
  },
  {
   "cell_type": "code",
   "execution_count": null,
   "metadata": {
    "collapsed": true
   },
   "outputs": [],
   "source": []
  }
 ],
 "metadata": {
  "kernelspec": {
   "display_name": "R",
   "language": "R",
   "name": "ir"
  },
  "language_info": {
   "codemirror_mode": "r",
   "file_extension": ".r",
   "mimetype": "text/x-r-source",
   "name": "R",
   "pygments_lexer": "r",
   "version": "3.3.2"
  }
 },
 "nbformat": 4,
 "nbformat_minor": 1
}
